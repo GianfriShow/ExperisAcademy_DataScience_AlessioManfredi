{
 "cells": [
  {
   "cell_type": "markdown",
   "metadata": {},
   "source": [
    "# Exercise 1 #\n",
    "- Use the np.arange() function to create an array of positive integers from 10 to 49 (included)\n",
    "- Verify the type of the array and print the result\n",
    "- Change the type to 'float64' and re-verify the type\n",
    "- Print the shape of the array"
   ]
  },
  {
   "cell_type": "code",
   "execution_count": 190,
   "metadata": {},
   "outputs": [
    {
     "name": "stdout",
     "output_type": "stream",
     "text": [
      "[10 11 12 13 14 15 16 17 18 19 20 21 22 23 24 25 26 27 28 29 30 31 32 33\n",
      " 34 35 36 37 38 39 40 41 42 43 44 45 46 47 48 49]\n"
     ]
    }
   ],
   "source": [
    "import numpy as np\n",
    "\n",
    "array = np.arange(10,50)\n",
    "print(array)"
   ]
  },
  {
   "cell_type": "code",
   "execution_count": 191,
   "metadata": {},
   "outputs": [
    {
     "name": "stdout",
     "output_type": "stream",
     "text": [
      "int32\n"
     ]
    }
   ],
   "source": [
    "print(array.dtype)"
   ]
  },
  {
   "cell_type": "code",
   "execution_count": 192,
   "metadata": {},
   "outputs": [
    {
     "name": "stdout",
     "output_type": "stream",
     "text": [
      "[10. 11. 12. 13. 14. 15. 16. 17. 18. 19. 20. 21. 22. 23. 24. 25. 26. 27.\n",
      " 28. 29. 30. 31. 32. 33. 34. 35. 36. 37. 38. 39. 40. 41. 42. 43. 44. 45.\n",
      " 46. 47. 48. 49.]\n"
     ]
    }
   ],
   "source": [
    "array = array.astype('float64')\n",
    "print(array)"
   ]
  },
  {
   "cell_type": "code",
   "execution_count": 193,
   "metadata": {},
   "outputs": [
    {
     "name": "stdout",
     "output_type": "stream",
     "text": [
      "float64\n"
     ]
    }
   ],
   "source": [
    "print(array.dtype)"
   ]
  },
  {
   "cell_type": "code",
   "execution_count": 194,
   "metadata": {},
   "outputs": [
    {
     "name": "stdout",
     "output_type": "stream",
     "text": [
      "(40,)\n"
     ]
    }
   ],
   "source": [
    "print(array.shape)"
   ]
  },
  {
   "cell_type": "markdown",
   "metadata": {},
   "source": [
    "# Exercise 2 #\n",
    "- Create a 1D numpy array with 20 random integers between 10 and 50\n",
    "- Slice to extract the first 10 elements\n",
    "- Slice to extract the last 5 elements\n",
    "- Slice to extract elements from index 5 to 15 (excluded)\n",
    "- Slice to extract every third element\n",
    "- Modify, by slicing, elements from index 5 to 10 (excluded), making them equal to 99\n",
    "- Print the original array and all the outputs of the previous instructions"
   ]
  },
  {
   "cell_type": "code",
   "execution_count": 195,
   "metadata": {},
   "outputs": [],
   "source": [
    "import numpy as np\n",
    "\n",
    "og_array = np.random.choice(np.arange(10,51),20,replace=False)"
   ]
  },
  {
   "cell_type": "code",
   "execution_count": 196,
   "metadata": {},
   "outputs": [],
   "source": [
    "first_10 = og_array[:10]"
   ]
  },
  {
   "cell_type": "code",
   "execution_count": 197,
   "metadata": {},
   "outputs": [],
   "source": [
    "last_5 = og_array[-5:]"
   ]
  },
  {
   "cell_type": "code",
   "execution_count": 198,
   "metadata": {},
   "outputs": [],
   "source": [
    "from_5_to_15 = og_array[5:15]"
   ]
  },
  {
   "cell_type": "code",
   "execution_count": 199,
   "metadata": {},
   "outputs": [],
   "source": [
    "every_third = og_array[2::3]"
   ]
  },
  {
   "cell_type": "code",
   "execution_count": 200,
   "metadata": {},
   "outputs": [],
   "source": [
    "modified_5_to_10 = og_array.copy()\n",
    "modified_5_to_10[5:10] = [99 for _ in range(5,10)]"
   ]
  },
  {
   "cell_type": "code",
   "execution_count": 201,
   "metadata": {},
   "outputs": [
    {
     "name": "stdout",
     "output_type": "stream",
     "text": [
      "[14 11 12 35 13 31 34 26 44 20 25 15 37 33 46 39 49 32 18 23]\n",
      "[14 11 12 35 13 31 34 26 44 20]\n",
      "[39 49 32 18 23]\n",
      "[31 34 26 44 20 25 15 37 33 46]\n",
      "[12 31 44 15 46 32]\n",
      "[14 11 12 35 13 99 99 99 99 99 25 15 37 33 46 39 49 32 18 23]\n"
     ]
    }
   ],
   "source": [
    "print(og_array)\n",
    "print(first_10)\n",
    "print(last_5)\n",
    "print(from_5_to_15)\n",
    "print(every_third)\n",
    "print(modified_5_to_10)"
   ]
  },
  {
   "cell_type": "markdown",
   "metadata": {},
   "source": [
    "# Exercise 3 #\n",
    "- Create an array using linspace() with 12 numbers between 0 and 1\n",
    "- Change its shape into a 3x4 matrix\n",
    "- Create a 3x4 matrix with random numbers between 0 and 1\n",
    "- Sum the two matrices and print the result"
   ]
  },
  {
   "cell_type": "code",
   "execution_count": 202,
   "metadata": {},
   "outputs": [
    {
     "name": "stdout",
     "output_type": "stream",
     "text": [
      "[0.         0.09090909 0.18181818 0.27272727 0.36363636 0.45454545\n",
      " 0.54545455 0.63636364 0.72727273 0.81818182 0.90909091 1.        ]\n"
     ]
    }
   ],
   "source": [
    "first_matrix = np.linspace(0,1,12)\n",
    "print(first_matrix)"
   ]
  },
  {
   "cell_type": "code",
   "execution_count": 203,
   "metadata": {},
   "outputs": [
    {
     "name": "stdout",
     "output_type": "stream",
     "text": [
      "[[0.         0.09090909 0.18181818 0.27272727]\n",
      " [0.36363636 0.45454545 0.54545455 0.63636364]\n",
      " [0.72727273 0.81818182 0.90909091 1.        ]]\n"
     ]
    }
   ],
   "source": [
    "first_matrix = first_matrix.reshape((3,4))\n",
    "print(first_matrix)"
   ]
  },
  {
   "cell_type": "code",
   "execution_count": 204,
   "metadata": {},
   "outputs": [
    {
     "name": "stdout",
     "output_type": "stream",
     "text": [
      "[[0.61217437 0.33283034 0.39964296 0.52245587]\n",
      " [0.85332456 0.17668254 0.92722054 0.6713428 ]\n",
      " [0.2446618  0.66172762 0.28084123 0.11555388]]\n"
     ]
    }
   ],
   "source": [
    "second_matrix = np.random.rand(3,4)\n",
    "print(second_matrix)"
   ]
  },
  {
   "cell_type": "code",
   "execution_count": 205,
   "metadata": {},
   "outputs": [
    {
     "name": "stdout",
     "output_type": "stream",
     "text": [
      "[[0.61217437 0.42373943 0.58146114 0.79518314]\n",
      " [1.21696092 0.63122799 1.47267509 1.30770643]\n",
      " [0.97193453 1.47990944 1.18993214 1.11555388]]\n"
     ]
    }
   ],
   "source": [
    "matrix_sum = first_matrix + second_matrix\n",
    "print(matrix_sum)"
   ]
  },
  {
   "cell_type": "markdown",
   "metadata": {},
   "source": [
    "# Exercise 4 #\n",
    "- Create an array using linspace() with 50 numbers between 0 and 10\n",
    "- Use np.random.random to create an array of 50 random numbers between 0 and 1\n",
    "- Sum the two arrays element by element to obtain a new array\n",
    "- Calculate the total sum of this new array\n",
    "- Calculate the sum of the elements > 5\n",
    "- Print the original arrays, the sum array, and the other calculated sums"
   ]
  },
  {
   "cell_type": "code",
   "execution_count": 206,
   "metadata": {},
   "outputs": [],
   "source": [
    "first_array = np.linspace(0,10,50)"
   ]
  },
  {
   "cell_type": "code",
   "execution_count": 207,
   "metadata": {},
   "outputs": [],
   "source": [
    "second_array = np.random.random((50))"
   ]
  },
  {
   "cell_type": "code",
   "execution_count": 208,
   "metadata": {},
   "outputs": [],
   "source": [
    "array_sum = first_array + second_array"
   ]
  },
  {
   "cell_type": "code",
   "execution_count": 209,
   "metadata": {},
   "outputs": [],
   "source": [
    "total_sum = array_sum.sum()"
   ]
  },
  {
   "cell_type": "code",
   "execution_count": 210,
   "metadata": {},
   "outputs": [],
   "source": [
    "sum_when_greater_than_5 = array_sum[array_sum > 5].sum()"
   ]
  },
  {
   "cell_type": "code",
   "execution_count": 211,
   "metadata": {},
   "outputs": [
    {
     "name": "stdout",
     "output_type": "stream",
     "text": [
      "[ 0.          0.20408163  0.40816327  0.6122449   0.81632653  1.02040816\n",
      "  1.2244898   1.42857143  1.63265306  1.83673469  2.04081633  2.24489796\n",
      "  2.44897959  2.65306122  2.85714286  3.06122449  3.26530612  3.46938776\n",
      "  3.67346939  3.87755102  4.08163265  4.28571429  4.48979592  4.69387755\n",
      "  4.89795918  5.10204082  5.30612245  5.51020408  5.71428571  5.91836735\n",
      "  6.12244898  6.32653061  6.53061224  6.73469388  6.93877551  7.14285714\n",
      "  7.34693878  7.55102041  7.75510204  7.95918367  8.16326531  8.36734694\n",
      "  8.57142857  8.7755102   8.97959184  9.18367347  9.3877551   9.59183673\n",
      "  9.79591837 10.        ]\n",
      "[0.10219957 0.52879849 0.96185296 0.74642934 0.70575333 0.65149465\n",
      " 0.67732532 0.16803008 0.93708788 0.2399624  0.85137164 0.52689623\n",
      " 0.03981122 0.95296576 0.05489043 0.35070534 0.04583813 0.20393429\n",
      " 0.97289731 0.80481076 0.42766782 0.66265138 0.23437963 0.65230977\n",
      " 0.26082997 0.17052227 0.02963472 0.44575988 0.56379646 0.39960375\n",
      " 0.00916386 0.66694185 0.72914439 0.07290157 0.102906   0.20797436\n",
      " 0.29045595 0.33768992 0.23278654 0.31841555 0.89047326 0.53534967\n",
      " 0.431754   0.6327046  0.84561124 0.05365761 0.10113522 0.61827547\n",
      " 0.08849575 0.15502492]\n",
      "[ 0.10219957  0.73288012  1.37001622  1.35867424  1.52207986  1.67190281\n",
      "  1.90181512  1.59660151  2.56974094  2.07669709  2.89218796  2.77179419\n",
      "  2.48879081  3.60602698  2.91203328  3.41192983  3.31114425  3.67332205\n",
      "  4.6463667   4.68236178  4.50930047  4.94836567  4.72417554  5.34618732\n",
      "  5.15878915  5.27256308  5.33575717  5.95596396  6.27808217  6.31797109\n",
      "  6.13161284  6.99347247  7.25975664  6.80759545  7.04168151  7.35083151\n",
      "  7.63739473  7.88871033  7.98788858  8.27759923  9.05373857  8.90269661\n",
      "  9.00318258  9.40821481  9.82520307  9.23733108  9.48889032 10.2101122\n",
      "  9.88441412 10.15502492]\n",
      "271.69107248125624\n",
      "208.2106654946193\n"
     ]
    }
   ],
   "source": [
    "print(first_array)\n",
    "print(second_array)\n",
    "print(array_sum)\n",
    "print(total_sum)\n",
    "print(sum_when_greater_than_5)"
   ]
  }
 ],
 "metadata": {
  "kernelspec": {
   "display_name": "Python 3",
   "language": "python",
   "name": "python3"
  },
  "language_info": {
   "codemirror_mode": {
    "name": "ipython",
    "version": 3
   },
   "file_extension": ".py",
   "mimetype": "text/x-python",
   "name": "python",
   "nbconvert_exporter": "python",
   "pygments_lexer": "ipython3",
   "version": "3.12.5"
  }
 },
 "nbformat": 4,
 "nbformat_minor": 2
}
