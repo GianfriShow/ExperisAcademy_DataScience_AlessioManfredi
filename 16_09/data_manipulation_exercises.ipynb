{
 "cells": [
  {
   "cell_type": "markdown",
   "metadata": {},
   "source": [
    "# Exercise 1 #\n",
    "- Use the np.arange() function to create an array of positive integers from 10 to 49 (included)\n",
    "- Verify the type of the array and print the result\n",
    "- Change the type to 'float64' and re-verify the type\n",
    "- Print the shape of the array"
   ]
  },
  {
   "cell_type": "code",
   "execution_count": 37,
   "metadata": {},
   "outputs": [
    {
     "name": "stdout",
     "output_type": "stream",
     "text": [
      "[10 11 12 13 14 15 16 17 18 19 20 21 22 23 24 25 26 27 28 29 30 31 32 33\n",
      " 34 35 36 37 38 39 40 41 42 43 44 45 46 47 48 49]\n"
     ]
    }
   ],
   "source": [
    "import numpy as np\n",
    "\n",
    "array = np.arange(10,50)\n",
    "print(array)"
   ]
  },
  {
   "cell_type": "code",
   "execution_count": 38,
   "metadata": {},
   "outputs": [
    {
     "name": "stdout",
     "output_type": "stream",
     "text": [
      "int32\n"
     ]
    }
   ],
   "source": [
    "print(array.dtype)"
   ]
  },
  {
   "cell_type": "code",
   "execution_count": 39,
   "metadata": {},
   "outputs": [
    {
     "name": "stdout",
     "output_type": "stream",
     "text": [
      "[10. 11. 12. 13. 14. 15. 16. 17. 18. 19. 20. 21. 22. 23. 24. 25. 26. 27.\n",
      " 28. 29. 30. 31. 32. 33. 34. 35. 36. 37. 38. 39. 40. 41. 42. 43. 44. 45.\n",
      " 46. 47. 48. 49.]\n"
     ]
    }
   ],
   "source": [
    "array = array.astype('float64')\n",
    "print(array)"
   ]
  },
  {
   "cell_type": "code",
   "execution_count": 40,
   "metadata": {},
   "outputs": [
    {
     "name": "stdout",
     "output_type": "stream",
     "text": [
      "float64\n"
     ]
    }
   ],
   "source": [
    "print(array.dtype)"
   ]
  },
  {
   "cell_type": "code",
   "execution_count": 41,
   "metadata": {},
   "outputs": [
    {
     "name": "stdout",
     "output_type": "stream",
     "text": [
      "(40,)\n"
     ]
    }
   ],
   "source": [
    "print(array.shape)"
   ]
  },
  {
   "cell_type": "markdown",
   "metadata": {},
   "source": [
    "# Exercise 2 #\n",
    "- Create a 1D numpy array with 20 random integers between 10 and 50\n",
    "- Slice to extract the first 10 elements\n",
    "- Slice to extract the last 5 elements\n",
    "- Slice to extract elements from index 5 to 15 (excluded)\n",
    "- Slice to extract every third element\n",
    "- Modify, by slicing, elements from index 5 to 10 (excluded), making them equal to 99\n",
    "- Print the original array and all the outputs of the previous instructions"
   ]
  },
  {
   "cell_type": "code",
   "execution_count": 42,
   "metadata": {},
   "outputs": [],
   "source": [
    "import numpy as np\n",
    "\n",
    "og_array = np.random.choice(np.arange(10,51),20,replace=False)"
   ]
  },
  {
   "cell_type": "code",
   "execution_count": 43,
   "metadata": {},
   "outputs": [],
   "source": [
    "first_10 = og_array[:10]"
   ]
  },
  {
   "cell_type": "code",
   "execution_count": 44,
   "metadata": {},
   "outputs": [],
   "source": [
    "last_5 = og_array[-5:]"
   ]
  },
  {
   "cell_type": "code",
   "execution_count": 45,
   "metadata": {},
   "outputs": [],
   "source": [
    "from_5_to_15 = og_array[5:15]"
   ]
  },
  {
   "cell_type": "code",
   "execution_count": 46,
   "metadata": {},
   "outputs": [],
   "source": [
    "every_third = og_array[2::3]"
   ]
  },
  {
   "cell_type": "code",
   "execution_count": 47,
   "metadata": {},
   "outputs": [],
   "source": [
    "modified_5_to_10 = og_array.copy()\n",
    "modified_5_to_10[5:10] = [99 for _ in range(5,10)]"
   ]
  },
  {
   "cell_type": "code",
   "execution_count": 48,
   "metadata": {},
   "outputs": [
    {
     "name": "stdout",
     "output_type": "stream",
     "text": [
      "[45 25 27 38 17 20 30 40 37 34 41 16 39 35 24 21 44 32 31 50]\n",
      "[45 25 27 38 17 20 30 40 37 34]\n",
      "[21 44 32 31 50]\n",
      "[20 30 40 37 34 41 16 39 35 24]\n",
      "[27 20 37 16 24 32]\n",
      "[45 25 27 38 17 99 99 99 99 99 41 16 39 35 24 21 44 32 31 50]\n"
     ]
    }
   ],
   "source": [
    "print(og_array)\n",
    "print(first_10)\n",
    "print(last_5)\n",
    "print(from_5_to_15)\n",
    "print(every_third)\n",
    "print(modified_5_to_10)"
   ]
  },
  {
   "cell_type": "markdown",
   "metadata": {},
   "source": [
    "# Exercise 3 #\n",
    "- Create an array using linspace() with 12 numbers between 0 and 1\n",
    "- Change its shape into a 3x4 matrix\n",
    "- Create a 3x4 matrix with random numbers between 0 and 1\n",
    "- Sum the two matrices and print the result"
   ]
  },
  {
   "cell_type": "code",
   "execution_count": 49,
   "metadata": {},
   "outputs": [
    {
     "name": "stdout",
     "output_type": "stream",
     "text": [
      "[0.         0.09090909 0.18181818 0.27272727 0.36363636 0.45454545\n",
      " 0.54545455 0.63636364 0.72727273 0.81818182 0.90909091 1.        ]\n"
     ]
    }
   ],
   "source": [
    "first_matrix = np.linspace(0,1,12)\n",
    "print(first_matrix)"
   ]
  },
  {
   "cell_type": "code",
   "execution_count": 50,
   "metadata": {},
   "outputs": [
    {
     "name": "stdout",
     "output_type": "stream",
     "text": [
      "[[0.         0.09090909 0.18181818 0.27272727]\n",
      " [0.36363636 0.45454545 0.54545455 0.63636364]\n",
      " [0.72727273 0.81818182 0.90909091 1.        ]]\n"
     ]
    }
   ],
   "source": [
    "first_matrix = first_matrix.reshape((3,4))\n",
    "print(first_matrix)"
   ]
  },
  {
   "cell_type": "code",
   "execution_count": 51,
   "metadata": {},
   "outputs": [
    {
     "name": "stdout",
     "output_type": "stream",
     "text": [
      "[[0.13294609 0.89740232 0.52914454 0.86328142]\n",
      " [0.61461931 0.40352094 0.64839746 0.76483364]\n",
      " [0.02097202 0.96840442 0.05986314 0.58082723]]\n"
     ]
    }
   ],
   "source": [
    "second_matrix = np.random.rand(3,4)\n",
    "print(second_matrix)"
   ]
  },
  {
   "cell_type": "code",
   "execution_count": 52,
   "metadata": {},
   "outputs": [
    {
     "name": "stdout",
     "output_type": "stream",
     "text": [
      "[[0.13294609 0.98831141 0.71096272 1.13600869]\n",
      " [0.97825567 0.8580664  1.193852   1.40119727]\n",
      " [0.74824475 1.78658624 0.96895405 1.58082723]]\n"
     ]
    }
   ],
   "source": [
    "matrix_sum = first_matrix + second_matrix\n",
    "print(matrix_sum)"
   ]
  },
  {
   "cell_type": "markdown",
   "metadata": {},
   "source": [
    "# Exercise 4 #\n",
    "- Create an array using linspace() with 50 numbers between 0 and 10\n",
    "- Use np.random.random to create an array of 50 random numbers between 0 and 1\n",
    "- Sum the two arrays element by element to obtain a new array\n",
    "- Calculate the total sum of this new array\n",
    "- Calculate the sum of the elements > 5\n",
    "- Print the original arrays, the sum array, and the other calculated sums"
   ]
  },
  {
   "cell_type": "code",
   "execution_count": 53,
   "metadata": {},
   "outputs": [],
   "source": [
    "first_array = np.linspace(0,10,50)"
   ]
  },
  {
   "cell_type": "code",
   "execution_count": 54,
   "metadata": {},
   "outputs": [],
   "source": [
    "second_array = np.random.random((50))"
   ]
  },
  {
   "cell_type": "code",
   "execution_count": 55,
   "metadata": {},
   "outputs": [],
   "source": [
    "array_sum = first_array + second_array"
   ]
  },
  {
   "cell_type": "code",
   "execution_count": 56,
   "metadata": {},
   "outputs": [],
   "source": [
    "total_sum = array_sum.sum()"
   ]
  },
  {
   "cell_type": "code",
   "execution_count": 57,
   "metadata": {},
   "outputs": [],
   "source": [
    "sum_when_greater_than_5 = array_sum[array_sum > 5].sum()"
   ]
  },
  {
   "cell_type": "code",
   "execution_count": 58,
   "metadata": {},
   "outputs": [
    {
     "name": "stdout",
     "output_type": "stream",
     "text": [
      "[ 0.          0.20408163  0.40816327  0.6122449   0.81632653  1.02040816\n",
      "  1.2244898   1.42857143  1.63265306  1.83673469  2.04081633  2.24489796\n",
      "  2.44897959  2.65306122  2.85714286  3.06122449  3.26530612  3.46938776\n",
      "  3.67346939  3.87755102  4.08163265  4.28571429  4.48979592  4.69387755\n",
      "  4.89795918  5.10204082  5.30612245  5.51020408  5.71428571  5.91836735\n",
      "  6.12244898  6.32653061  6.53061224  6.73469388  6.93877551  7.14285714\n",
      "  7.34693878  7.55102041  7.75510204  7.95918367  8.16326531  8.36734694\n",
      "  8.57142857  8.7755102   8.97959184  9.18367347  9.3877551   9.59183673\n",
      "  9.79591837 10.        ]\n",
      "[0.0330681  0.23505385 0.49338225 0.05014931 0.90720476 0.66598661\n",
      " 0.8139212  0.96219904 0.89088982 0.64942103 0.99122142 0.12357392\n",
      " 0.40974878 0.26027814 0.80748396 0.97371262 0.64453625 0.72226551\n",
      " 0.77980184 0.85324179 0.10309871 0.82290192 0.91914697 0.42479296\n",
      " 0.18620609 0.1566137  0.9322905  0.32601804 0.19141588 0.0126961\n",
      " 0.84354578 0.50503488 0.49723687 0.33234805 0.39763071 0.03138771\n",
      " 0.62066205 0.52408981 0.33074346 0.44849167 0.95781115 0.41268876\n",
      " 0.19146989 0.83317922 0.20392992 0.84433544 0.15322509 0.96816601\n",
      " 0.74315872 0.50119042]\n",
      "[ 0.0330681   0.43913548  0.90154552  0.66239421  1.72353129  1.68639477\n",
      "  2.03841099  2.39077047  2.52354288  2.48615573  3.03203774  2.36847188\n",
      "  2.85872837  2.91333936  3.66462682  4.03493711  3.90984237  4.19165327\n",
      "  4.45327123  4.73079281  4.18473136  5.1086162   5.40894289  5.11867051\n",
      "  5.08416527  5.25865451  6.23841295  5.83622212  5.90570159  5.93106344\n",
      "  6.96599476  6.83156549  7.02784911  7.06704193  7.33640622  7.17424486\n",
      "  7.96760082  8.07511022  8.0858455   8.40767534  9.12107646  8.7800357\n",
      "  8.76289846  9.60868942  9.18352176 10.02800891  9.54098019 10.56000274\n",
      " 10.53907708 10.50119042]\n",
      "276.68264664268384\n",
      "221.45526488958183\n"
     ]
    }
   ],
   "source": [
    "print(first_array)\n",
    "print(second_array)\n",
    "print(array_sum)\n",
    "print(total_sum)\n",
    "print(sum_when_greater_than_5)"
   ]
  },
  {
   "cell_type": "markdown",
   "metadata": {},
   "source": [
    "# Exercise5 #\n",
    "Write a program that uses numpy to manage a 2D matrix: the user has a menu where they can choose what to do with the matrix. Available operations:\n",
    "- create a new 2D matrix with given shape and filled with random numbers\n",
    "- extract and print the central sub-matrix\n",
    "- transpose the matrix and print the result\n",
    "- calculate and print the sum of all elements of the matrix\n",
    "- exit the program"
   ]
  },
  {
   "cell_type": "code",
   "execution_count": 59,
   "metadata": {},
   "outputs": [],
   "source": [
    "import numpy as np"
   ]
  },
  {
   "cell_type": "code",
   "execution_count": 60,
   "metadata": {},
   "outputs": [],
   "source": [
    "def rng_matrix(shape, lower=0, upper=1):\n",
    "    array = np.random.uniform(low=lower,high=upper,size=shape)\n",
    "    return array"
   ]
  },
  {
   "cell_type": "code",
   "execution_count": 61,
   "metadata": {},
   "outputs": [],
   "source": [
    "# for this to work, initial_dimension - final_dimension must be an even number, and matrix must be a 2D numpy array big enough\n",
    "def central_sub_matrix(matrix, final_rows=None, final_columns=None):\n",
    "    initial_rows = matrix.shape[0]\n",
    "    initial_columns = matrix.shape[1]\n",
    "    if final_rows is None:\n",
    "        final_rows=initial_rows-2\n",
    "    if final_columns is None:\n",
    "        final_columns=initial_columns-2\n",
    "    final = matrix.copy()\n",
    "    half_rows_to_skip = int((initial_rows-final_rows)/2)\n",
    "    half_columns_to_skip = int((initial_columns-final_columns)/2)\n",
    "    final = final[half_rows_to_skip:initial_rows-half_rows_to_skip,half_columns_to_skip:initial_columns-half_columns_to_skip]\n",
    "    return final"
   ]
  },
  {
   "cell_type": "code",
   "execution_count": 62,
   "metadata": {},
   "outputs": [],
   "source": [
    "def transpose(matrix):\n",
    "    transposed = np.zeros(matrix.shape[::-1])\n",
    "    for column in np.arange(transposed.shape[1]):\n",
    "        transposed[:,column] = matrix[column,:]\n",
    "    return transposed"
   ]
  },
  {
   "cell_type": "code",
   "execution_count": 63,
   "metadata": {},
   "outputs": [],
   "source": [
    "def sum_all(matrix):\n",
    "    total = matrix.sum()\n",
    "    return total"
   ]
  },
  {
   "cell_type": "code",
   "execution_count": 75,
   "metadata": {},
   "outputs": [],
   "source": [
    "def matrix_management(matrix=None):\n",
    "    while True:\n",
    "        try:\n",
    "            choice = input(\"Choose an option:\\n    1) Create a 2D matrix\\n    2) Extract a central sub-matrix\\n    3) Transpose the matrix\\n    4) Sum all elements\\n    5) Exit\\n\")\n",
    "            assert choice.isdigit() and int(choice) in (1,2,3,4,5)\n",
    "            choice = int(choice)\n",
    "        except:\n",
    "            print(\"Wrong input\")\n",
    "            continue\n",
    "        if matrix is None and choice in (2,3,4):\n",
    "            print(\"You must create a matrix first, or select 5) to exit\")\n",
    "            continue\n",
    "        if choice == 1:  # no more input checks from now on, takes too long\n",
    "            shape = input(\"Type the new shape:\\n\")\n",
    "            shape = eval(shape)\n",
    "            change = int(input(\"Default bounds are 0 (included) and 1 (excluded). Would you like to change them?\\n    1) No\\n    2) Yes\\n\"))-1\n",
    "            if change:\n",
    "                lower_bound = float(input(\"Type the lower bound:\\n\"))\n",
    "                upper_bound = float(input(\"Type the upper bound:\\n\"))\n",
    "                new_matrix = rng_matrix(shape=shape,lower=lower_bound,upper=upper_bound)\n",
    "                return new_matrix\n",
    "            else:\n",
    "                new_matrix = rng_matrix(shape=shape)\n",
    "                return new_matrix\n",
    "        elif choice == 2:\n",
    "            print(\"Remember that (initial_dimension - final_dimension) must be an even number\")\n",
    "            print(f'Initial rows: {matrix.shape[0]}\\nInitial columns: {matrix.shape[1]}')\n",
    "            rows = int(input(\"How many final rows would you like the central sub-matrix to have?\\n\"))\n",
    "            columns = int(input(\"How many final columns would you like the central sub-matrix to have?\\n\"))\n",
    "            return central_sub_matrix(matrix=matrix,final_rows=rows,final_columns=columns)\n",
    "        elif choice == 3:\n",
    "            return transpose(matrix=matrix)\n",
    "        elif choice == 4:\n",
    "            return sum_all(matrix=matrix)\n",
    "        else:\n",
    "            break"
   ]
  },
  {
   "cell_type": "code",
   "execution_count": 77,
   "metadata": {},
   "outputs": [
    {
     "name": "stdout",
     "output_type": "stream",
     "text": [
      "[[0.04923356 0.05149655 0.7076816  0.25080564 0.59798388 0.7511663\n",
      "  0.84973665 0.07460807 0.88332568 0.50857909 0.76109711]\n",
      " [0.89528609 0.70005693 0.48277346 0.48685212 0.41626691 0.04533403\n",
      "  0.47848657 0.88736978 0.37966926 0.45746313 0.97355062]\n",
      " [0.16186687 0.88116277 0.40531079 0.34771503 0.47222015 0.35271709\n",
      "  0.30989414 0.98759989 0.56881128 0.89770117 0.11870581]\n",
      " [0.40201197 0.91467842 0.68088585 0.92065541 0.99685292 0.08491281\n",
      "  0.74307318 0.68064714 0.36500815 0.75997121 0.04191485]\n",
      " [0.07586542 0.62246364 0.85363239 0.80020651 0.24997387 0.85571964\n",
      "  0.77690944 0.11571377 0.24896377 0.36245778 0.31144364]\n",
      " [0.403662   0.52077615 0.98707704 0.49826327 0.79722677 0.33172573\n",
      "  0.33742091 0.10003685 0.42075903 0.00305428 0.62018844]\n",
      " [0.28043978 0.77402544 0.50452196 0.22679356 0.77235166 0.20442136\n",
      "  0.86601219 0.1881554  0.85695465 0.97930738 0.29361545]\n",
      " [0.48567657 0.10162167 0.26982279 0.12003696 0.61513736 0.88613641\n",
      "  0.23493646 0.84680839 0.05824209 0.45316571 0.02445457]\n",
      " [0.52637049 0.08710092 0.75256532 0.43848599 0.74848248 0.51468378\n",
      "  0.1148807  0.45421188 0.82524496 0.83457169 0.67391355]\n",
      " [0.02288991 0.54259842 0.47094636 0.68760466 0.63818705 0.40151733\n",
      "  0.61675679 0.63596363 0.56088259 0.0852163  0.32419216]\n",
      " [0.93443226 0.06088586 0.37491326 0.07295098 0.83365168 0.10663974\n",
      "  0.06726962 0.42710537 0.04742448 0.3631055  0.14146776]]\n"
     ]
    }
   ],
   "source": [
    "mat = matrix_management()\n",
    "print(mat)"
   ]
  },
  {
   "cell_type": "code",
   "execution_count": 78,
   "metadata": {},
   "outputs": [
    {
     "name": "stdout",
     "output_type": "stream",
     "text": [
      "[[0.01652936 0.4536561  0.28737723 0.83805994 0.7798679 ]\n",
      " [0.64528006 0.87541531 0.62264571 0.00151355 0.53939471]\n",
      " [0.02285469 0.94786145 0.64667236 0.03860745 0.43658447]\n",
      " [0.26471577 0.58342662 0.89545937 0.29739391 0.83804298]\n",
      " [0.32614118 0.34629759 0.50602718 0.14027289 0.57360294]]\n"
     ]
    }
   ],
   "source": [
    "mat = matrix_management()\n",
    "print(mat)"
   ]
  },
  {
   "cell_type": "code",
   "execution_count": 79,
   "metadata": {},
   "outputs": [
    {
     "name": "stdout",
     "output_type": "stream",
     "text": [
      "Remember that (initial_dimension - final_dimension) must be an even number\n",
      "Initial rows: 5\n",
      "Initial columns: 5\n",
      "[[0.87541531 0.62264571 0.00151355]\n",
      " [0.94786145 0.64667236 0.03860745]\n",
      " [0.58342662 0.89545937 0.29739391]]\n"
     ]
    }
   ],
   "source": [
    "sub_mat = matrix_management(mat)\n",
    "print(sub_mat)"
   ]
  },
  {
   "cell_type": "code",
   "execution_count": 81,
   "metadata": {},
   "outputs": [
    {
     "name": "stdout",
     "output_type": "stream",
     "text": [
      "[[0.01652936 0.64528006 0.02285469 0.26471577 0.32614118]\n",
      " [0.4536561  0.87541531 0.94786145 0.58342662 0.34629759]\n",
      " [0.28737723 0.62264571 0.64667236 0.89545937 0.50602718]\n",
      " [0.83805994 0.00151355 0.03860745 0.29739391 0.14027289]\n",
      " [0.7798679  0.53939471 0.43658447 0.83804298 0.57360294]]\n"
     ]
    }
   ],
   "source": [
    "transpose_mat = matrix_management(mat)\n",
    "print(transpose_mat)"
   ]
  },
  {
   "cell_type": "code",
   "execution_count": 82,
   "metadata": {},
   "outputs": [
    {
     "name": "stdout",
     "output_type": "stream",
     "text": [
      "11.923700704645924\n"
     ]
    }
   ],
   "source": [
    "sum_mat = matrix_management(mat)\n",
    "print(sum_mat)"
   ]
  }
 ],
 "metadata": {
  "kernelspec": {
   "display_name": "Python 3",
   "language": "python",
   "name": "python3"
  },
  "language_info": {
   "codemirror_mode": {
    "name": "ipython",
    "version": 3
   },
   "file_extension": ".py",
   "mimetype": "text/x-python",
   "name": "python",
   "nbconvert_exporter": "python",
   "pygments_lexer": "ipython3",
   "version": "3.12.5"
  }
 },
 "nbformat": 4,
 "nbformat_minor": 2
}
