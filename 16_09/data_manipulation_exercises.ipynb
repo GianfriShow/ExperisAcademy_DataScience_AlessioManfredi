{
 "cells": [
  {
   "cell_type": "markdown",
   "metadata": {},
   "source": [
    "# Exercise 1 #\n",
    "- Use the np.arange() function to create an array of positive integers from 10 to 49 (included)\n",
    "- Verify the type of the array and print the result\n",
    "- Change the type to 'float64' and re-verify the type\n",
    "- Print the shape of the array"
   ]
  },
  {
   "cell_type": "code",
   "execution_count": 133,
   "metadata": {},
   "outputs": [
    {
     "name": "stdout",
     "output_type": "stream",
     "text": [
      "[10 11 12 13 14 15 16 17 18 19 20 21 22 23 24 25 26 27 28 29 30 31 32 33\n",
      " 34 35 36 37 38 39 40 41 42 43 44 45 46 47 48 49]\n"
     ]
    }
   ],
   "source": [
    "import numpy as np\n",
    "\n",
    "array = np.arange(10,50)\n",
    "print(array)"
   ]
  },
  {
   "cell_type": "code",
   "execution_count": 134,
   "metadata": {},
   "outputs": [
    {
     "name": "stdout",
     "output_type": "stream",
     "text": [
      "int32\n"
     ]
    }
   ],
   "source": [
    "print(array.dtype)"
   ]
  },
  {
   "cell_type": "code",
   "execution_count": 135,
   "metadata": {},
   "outputs": [
    {
     "name": "stdout",
     "output_type": "stream",
     "text": [
      "[10. 11. 12. 13. 14. 15. 16. 17. 18. 19. 20. 21. 22. 23. 24. 25. 26. 27.\n",
      " 28. 29. 30. 31. 32. 33. 34. 35. 36. 37. 38. 39. 40. 41. 42. 43. 44. 45.\n",
      " 46. 47. 48. 49.]\n"
     ]
    }
   ],
   "source": [
    "array = array.astype('float64')\n",
    "print(array)"
   ]
  },
  {
   "cell_type": "code",
   "execution_count": 136,
   "metadata": {},
   "outputs": [
    {
     "name": "stdout",
     "output_type": "stream",
     "text": [
      "float64\n"
     ]
    }
   ],
   "source": [
    "print(array.dtype)"
   ]
  },
  {
   "cell_type": "code",
   "execution_count": 137,
   "metadata": {},
   "outputs": [
    {
     "name": "stdout",
     "output_type": "stream",
     "text": [
      "(40,)\n"
     ]
    }
   ],
   "source": [
    "print(array.shape)"
   ]
  },
  {
   "cell_type": "markdown",
   "metadata": {},
   "source": [
    "# Exercise 2 #\n",
    "- Create a 1D numpy array with 20 random integers between 10 and 50\n",
    "- Slice to extract the first 10 elements\n",
    "- Slice to extract the last 5 elements\n",
    "- Slice to extract elements from index 5 to 15 (excluded)\n",
    "- Slice to extract every third element\n",
    "- Modify, by slicing, elements from index 5 to 10 (excluded), making them equal to 99\n",
    "- Print the original array and all the outputs of the previous instructions"
   ]
  },
  {
   "cell_type": "code",
   "execution_count": 138,
   "metadata": {},
   "outputs": [],
   "source": [
    "import numpy as np\n",
    "\n",
    "og_array = np.random.choice(np.arange(10,51),20,replace=False)"
   ]
  },
  {
   "cell_type": "code",
   "execution_count": 139,
   "metadata": {},
   "outputs": [],
   "source": [
    "first_10 = og_array[:10]"
   ]
  },
  {
   "cell_type": "code",
   "execution_count": 140,
   "metadata": {},
   "outputs": [],
   "source": [
    "last_5 = og_array[-5:]"
   ]
  },
  {
   "cell_type": "code",
   "execution_count": 141,
   "metadata": {},
   "outputs": [],
   "source": [
    "from_5_to_15 = og_array[5:15]"
   ]
  },
  {
   "cell_type": "code",
   "execution_count": 142,
   "metadata": {},
   "outputs": [],
   "source": [
    "every_third = og_array[2::3]"
   ]
  },
  {
   "cell_type": "code",
   "execution_count": 143,
   "metadata": {},
   "outputs": [],
   "source": [
    "modified_5_to_10 = og_array.copy()\n",
    "modified_5_to_10[5:10] = [99 for _ in range(5,10)]"
   ]
  },
  {
   "cell_type": "code",
   "execution_count": 144,
   "metadata": {},
   "outputs": [
    {
     "name": "stdout",
     "output_type": "stream",
     "text": [
      "[30 40 38 17 20 22 27 43 19 39 21 49 15 10 33 44 36 31 35 11]\n",
      "[30 40 38 17 20 22 27 43 19 39]\n",
      "[44 36 31 35 11]\n",
      "[22 27 43 19 39 21 49 15 10 33]\n",
      "[38 22 19 49 33 31]\n",
      "[30 40 38 17 20 99 99 99 99 99 21 49 15 10 33 44 36 31 35 11]\n"
     ]
    }
   ],
   "source": [
    "print(og_array)\n",
    "print(first_10)\n",
    "print(last_5)\n",
    "print(from_5_to_15)\n",
    "print(every_third)\n",
    "print(modified_5_to_10)"
   ]
  },
  {
   "cell_type": "markdown",
   "metadata": {},
   "source": [
    "# Exercise 3 #\n",
    "- Create an array using linspace() with 12 numbers between 0 and 1\n",
    "- Change its shape into a 3x4 matrix\n",
    "- Create a 3x4 matrix with random numbers between 0 and 1\n",
    "- Sum the two matrices and print the result"
   ]
  },
  {
   "cell_type": "code",
   "execution_count": 145,
   "metadata": {},
   "outputs": [
    {
     "name": "stdout",
     "output_type": "stream",
     "text": [
      "[0.         0.09090909 0.18181818 0.27272727 0.36363636 0.45454545\n",
      " 0.54545455 0.63636364 0.72727273 0.81818182 0.90909091 1.        ]\n"
     ]
    }
   ],
   "source": [
    "first_matrix = np.linspace(0,1,12)\n",
    "print(first_matrix)"
   ]
  },
  {
   "cell_type": "code",
   "execution_count": 147,
   "metadata": {},
   "outputs": [
    {
     "name": "stdout",
     "output_type": "stream",
     "text": [
      "[[0.         0.09090909 0.18181818 0.27272727]\n",
      " [0.36363636 0.45454545 0.54545455 0.63636364]\n",
      " [0.72727273 0.81818182 0.90909091 1.        ]]\n"
     ]
    }
   ],
   "source": [
    "first_matrix = first_matrix.reshape((3,4))\n",
    "print(first_matrix)"
   ]
  },
  {
   "cell_type": "code",
   "execution_count": 148,
   "metadata": {},
   "outputs": [
    {
     "name": "stdout",
     "output_type": "stream",
     "text": [
      "[[0.28640762 0.42383405 0.95922558 0.17142844]\n",
      " [0.39660874 0.11572088 0.48463242 0.80789498]\n",
      " [0.68004309 0.0020282  0.14068874 0.25260569]]\n"
     ]
    }
   ],
   "source": [
    "second_matrix = np.random.rand(3,4)\n",
    "print(second_matrix)"
   ]
  },
  {
   "cell_type": "code",
   "execution_count": 149,
   "metadata": {},
   "outputs": [
    {
     "name": "stdout",
     "output_type": "stream",
     "text": [
      "[[0.28640762 0.51474314 1.14104376 0.44415571]\n",
      " [0.76024511 0.57026633 1.03008697 1.44425862]\n",
      " [1.40731582 0.82021001 1.04977965 1.25260569]]\n"
     ]
    }
   ],
   "source": [
    "matrix_sum = first_matrix + second_matrix\n",
    "print(matrix_sum)"
   ]
  }
 ],
 "metadata": {
  "kernelspec": {
   "display_name": "Python 3",
   "language": "python",
   "name": "python3"
  },
  "language_info": {
   "codemirror_mode": {
    "name": "ipython",
    "version": 3
   },
   "file_extension": ".py",
   "mimetype": "text/x-python",
   "name": "python",
   "nbconvert_exporter": "python",
   "pygments_lexer": "ipython3",
   "version": "3.12.5"
  }
 },
 "nbformat": 4,
 "nbformat_minor": 2
}
