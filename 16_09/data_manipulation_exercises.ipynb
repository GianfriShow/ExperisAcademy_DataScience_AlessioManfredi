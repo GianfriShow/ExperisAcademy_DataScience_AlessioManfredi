{
 "cells": [
  {
   "cell_type": "markdown",
   "metadata": {},
   "source": [
    "# Exercise 1 #\n",
    "- Use the np.arange() function to create an array of positive integers from 10 to 49 (included)\n",
    "- Verify the type of the array and print the result\n",
    "- Change the type to 'float64' and re-verify the type\n",
    "- Print the shape of the array"
   ]
  },
  {
   "cell_type": "code",
   "execution_count": 121,
   "metadata": {},
   "outputs": [
    {
     "name": "stdout",
     "output_type": "stream",
     "text": [
      "[10 11 12 13 14 15 16 17 18 19 20 21 22 23 24 25 26 27 28 29 30 31 32 33\n",
      " 34 35 36 37 38 39 40 41 42 43 44 45 46 47 48 49]\n"
     ]
    }
   ],
   "source": [
    "import numpy as np\n",
    "\n",
    "array = np.arange(10,50)\n",
    "print(array)"
   ]
  },
  {
   "cell_type": "code",
   "execution_count": 122,
   "metadata": {},
   "outputs": [
    {
     "name": "stdout",
     "output_type": "stream",
     "text": [
      "int32\n"
     ]
    }
   ],
   "source": [
    "print(array.dtype)"
   ]
  },
  {
   "cell_type": "code",
   "execution_count": 123,
   "metadata": {},
   "outputs": [
    {
     "name": "stdout",
     "output_type": "stream",
     "text": [
      "[10. 11. 12. 13. 14. 15. 16. 17. 18. 19. 20. 21. 22. 23. 24. 25. 26. 27.\n",
      " 28. 29. 30. 31. 32. 33. 34. 35. 36. 37. 38. 39. 40. 41. 42. 43. 44. 45.\n",
      " 46. 47. 48. 49.]\n"
     ]
    }
   ],
   "source": [
    "array = array.astype('float64')\n",
    "print(array)"
   ]
  },
  {
   "cell_type": "code",
   "execution_count": 124,
   "metadata": {},
   "outputs": [
    {
     "name": "stdout",
     "output_type": "stream",
     "text": [
      "float64\n"
     ]
    }
   ],
   "source": [
    "print(array.dtype)"
   ]
  },
  {
   "cell_type": "code",
   "execution_count": 125,
   "metadata": {},
   "outputs": [
    {
     "name": "stdout",
     "output_type": "stream",
     "text": [
      "(40,)\n"
     ]
    }
   ],
   "source": [
    "print(array.shape)"
   ]
  },
  {
   "cell_type": "markdown",
   "metadata": {},
   "source": [
    "# Exercise 2 #\n",
    "- Create a 1D numpy array with 20 random integers between 10 and 50\n",
    "- Slice to extract the first 10 elements\n",
    "- Slice to extract the last 5 elements\n",
    "- Slice to extract elements from index 5 to 15 (excluded)\n",
    "- Slice to extract every third element\n",
    "- Modify, by slicing, elements from index 5 to 10 (excluded), making them equal to 99\n",
    "- Print the original array and all the outputs of the previous instructions"
   ]
  },
  {
   "cell_type": "code",
   "execution_count": 126,
   "metadata": {},
   "outputs": [],
   "source": [
    "import numpy as np\n",
    "\n",
    "og_array = np.random.choice(np.arange(10,51),20,replace=False)"
   ]
  },
  {
   "cell_type": "code",
   "execution_count": 127,
   "metadata": {},
   "outputs": [],
   "source": [
    "first_10 = og_array[:10]"
   ]
  },
  {
   "cell_type": "code",
   "execution_count": 128,
   "metadata": {},
   "outputs": [],
   "source": [
    "last_5 = og_array[-5:]"
   ]
  },
  {
   "cell_type": "code",
   "execution_count": 129,
   "metadata": {},
   "outputs": [],
   "source": [
    "from_5_to_15 = og_array[5:15]"
   ]
  },
  {
   "cell_type": "code",
   "execution_count": 130,
   "metadata": {},
   "outputs": [],
   "source": [
    "every_third = og_array[2::3]"
   ]
  },
  {
   "cell_type": "code",
   "execution_count": 131,
   "metadata": {},
   "outputs": [],
   "source": [
    "modified_5_to_10 = og_array[:].copy()\n",
    "modified_5_to_10[5:10] = [99 for _ in range(5,10)]"
   ]
  },
  {
   "cell_type": "code",
   "execution_count": 132,
   "metadata": {},
   "outputs": [
    {
     "name": "stdout",
     "output_type": "stream",
     "text": [
      "[49 34 27 14 17 47 45 38 29 15 19 39 40 26 11 28 46 33 31 32]\n",
      "[49 34 27 14 17 47 45 38 29 15]\n",
      "[28 46 33 31 32]\n",
      "[47 45 38 29 15 19 39 40 26 11]\n",
      "[27 47 29 39 11 33]\n",
      "[49 34 27 14 17 99 99 99 99 99 19 39 40 26 11 28 46 33 31 32]\n"
     ]
    }
   ],
   "source": [
    "print(og_array)\n",
    "print(first_10)\n",
    "print(last_5)\n",
    "print(from_5_to_15)\n",
    "print(every_third)\n",
    "print(modified_5_to_10)"
   ]
  }
 ],
 "metadata": {
  "kernelspec": {
   "display_name": "Python 3",
   "language": "python",
   "name": "python3"
  },
  "language_info": {
   "codemirror_mode": {
    "name": "ipython",
    "version": 3
   },
   "file_extension": ".py",
   "mimetype": "text/x-python",
   "name": "python",
   "nbconvert_exporter": "python",
   "pygments_lexer": "ipython3",
   "version": "3.12.5"
  }
 },
 "nbformat": 4,
 "nbformat_minor": 2
}
