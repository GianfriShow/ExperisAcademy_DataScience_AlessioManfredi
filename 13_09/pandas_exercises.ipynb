{
 "cells": [
  {
   "cell_type": "markdown",
   "metadata": {},
   "source": [
    "## <mark>Exercise 1</mark>\n",
    "<h4>Write a dataframe based on a list of at least 10 clients given by the user and save it to a CSV file.\n",
    "Each client will have:</h4>\n",
    "<ul>\n",
    "<li>Client Number, Name, Surname, Date of Birth, Residence</li>\n",
    "<ul>"
   ]
  },
  {
   "cell_type": "code",
   "execution_count": 21,
   "metadata": {},
   "outputs": [],
   "source": [
    "import pandas as pd\n",
    "\n",
    "def client_database(client_dictionary=0, index = False):\n",
    "    if not client_dictionary:\n",
    "        number_of_clients = int(input(\"How many clients would you like to add (must be 10 or more)?\\n\"))\n",
    "        ids = list(range(number_of_clients))\n",
    "        names = []\n",
    "        surnames = []\n",
    "        dates_of_birth = []\n",
    "        residences = []\n",
    "        for i in range(number_of_clients):\n",
    "            print(f'Client number {i+1}')\n",
    "            names.append(input(\"Type name:\"))\n",
    "            surnames.append(input(\"Type surname:\"))\n",
    "            dates_of_birth.append(input(\"Type date of birth:\"))\n",
    "            residences.append(input(\"Type residence:\"))\n",
    "        client_dictionary = {'id':ids,'name':names,'surname':surnames,'date_of_birth':dates_of_birth,'residence':residences}\n",
    "    df = pd.DataFrame(client_dictionary)\n",
    "    df.to_csv('client_database.csv', index=False)\n",
    "    print(df)"
   ]
  },
  {
   "cell_type": "code",
   "execution_count": 24,
   "metadata": {},
   "outputs": [
    {
     "name": "stdout",
     "output_type": "stream",
     "text": [
      "Client number 1\n",
      "Client number 2\n",
      "   id   name   surname date_of_birth   residence\n",
      "0   0  name1  surname1        birth1  residence1\n",
      "1   1  name2  surname2        birth2  residence2\n"
     ]
    }
   ],
   "source": [
    "client_database()"
   ]
  },
  {
   "cell_type": "code",
   "execution_count": 25,
   "metadata": {},
   "outputs": [
    {
     "name": "stdout",
     "output_type": "stream",
     "text": [
      "   id   name surname date_of_birth residence\n",
      "0   0  name1    sur1         date1      res1\n",
      "1   1  name2    sur2         date2      res2\n",
      "2   2  name3    sur3         date3      res3\n"
     ]
    }
   ],
   "source": [
    "my_dic = {'id':[0,1,2],'name':['name1','name2','name3'],'surname':['sur1','sur2','sur3'],'date_of_birth':['date1','date2','date3'],'residence':['res1','res2','res3']}\n",
    "client_database(my_dic)"
   ]
  },
  {
   "cell_type": "markdown",
   "metadata": {},
   "source": [
    "## <mark>Exercise 2</mark>\n",
    "<h4>Starting from the previous dataframe, add 3 columns:</h4>\n",
    "<ul>\n",
    "<li>The first contains an 'X' where the client is underage</li>\n",
    "<li>The first contains an 'X' where the client is above 17</li>\n",
    "<li>The third contains an 'X' where the client is above 20</li>\n",
    "<ul>\n"
   ]
  },
  {
   "cell_type": "code",
   "execution_count": 54,
   "metadata": {},
   "outputs": [],
   "source": [
    "import datetime\n",
    "\n",
    "def age(birth_date):  # birth_date must be a string\n",
    "    current_date = str(datetime.datetime.now()).split(\" \")[0]\n",
    "    current_date_list = [int(i) for i in current_date.split('-')]\n",
    "    birth_date_list = [int(i) for i in birth_date.split('-')]\n",
    "    if current_date_list[1] >= birth_date_list[1] and current_date_list[2] >= birth_date_list[2]:\n",
    "        age = current_date_list[0]-birth_date_list[0]\n",
    "    else:\n",
    "        age = current_date_list[0]-birth_date_list[0]-1\n",
    "    return age"
   ]
  },
  {
   "cell_type": "code",
   "execution_count": 55,
   "metadata": {},
   "outputs": [
    {
     "name": "stdout",
     "output_type": "stream",
     "text": [
      "   id    name   surname date_of_birth    residence\n",
      "0   0    John     Smith     1987-5-17     New York\n",
      "1   1    Emma   Johnson     2012-8-27  Los Angeles\n",
      "2   2   Lucas  Williams     2007-12-5      Chicago\n",
      "3   3  Sophia     Brown     2005-8-26      Houston\n",
      "4   4   James     Jones      2001-2-9      Phoenix \n",
      "\n",
      "   id    name   surname date_of_birth    residence underage above_17 above_20\n",
      "0   0    John     Smith     1987-5-17     New York                 X        X\n",
      "1   1    Emma   Johnson     2012-8-27  Los Angeles        X                  \n",
      "2   2   Lucas  Williams     2007-12-5      Chicago        X                  \n",
      "3   3  Sophia     Brown     2005-8-26      Houston                 X         \n",
      "4   4   James     Jones      2001-2-9      Phoenix                 X        X\n"
     ]
    }
   ],
   "source": [
    "df = pd.read_csv('client_database.csv')\n",
    "print(df,'\\n')\n",
    "df['underage'] = df['date_of_birth'].apply(lambda x: 'X' if age(x) < 18 else \"\")\n",
    "df['above_17'] = df['date_of_birth'].apply(lambda x: 'X' if age(x) > 17 else \"\")\n",
    "df['above_20'] = df['date_of_birth'].apply(lambda x: 'X' if age(x) > 20 else \"\")\n",
    "df.to_csv('client_database_updated.csv', index=False)\n",
    "print(df)"
   ]
  }
 ],
 "metadata": {
  "kernelspec": {
   "display_name": "Python 3",
   "language": "python",
   "name": "python3"
  },
  "language_info": {
   "codemirror_mode": {
    "name": "ipython",
    "version": 3
   },
   "file_extension": ".py",
   "mimetype": "text/x-python",
   "name": "python",
   "nbconvert_exporter": "python",
   "pygments_lexer": "ipython3",
   "version": "3.12.5"
  }
 },
 "nbformat": 4,
 "nbformat_minor": 2
}
