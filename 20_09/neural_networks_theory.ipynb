{
 "cells": [
  {
   "cell_type": "code",
   "execution_count": 1,
   "metadata": {},
   "outputs": [],
   "source": [
    "import numpy as np\n",
    "import matplotlib.pyplot as plt\n",
    "\n",
    "from tensorflow.keras.datasets import mnist\n",
    "from tensorflow.keras.models import Sequential\n",
    "from tensorflow.keras.layers import Dense, Flatten\n",
    "from tensorflow.keras.utils import to_categorical  # convert class labels to one-hot-encoded versions"
   ]
  },
  {
   "cell_type": "code",
   "execution_count": null,
   "metadata": {},
   "outputs": [],
   "source": [
    "'''\n",
    "TensorFlow has 3 main components:\n",
    "1) tensors --> N-dimensional arrays of numbers\n",
    "2) computational graphs --> graphs representing mathematical operations, with nodes as the operations, and edges as the tensors involved\n",
    "3) eager execution --> allows the immediate execution of operations without needing to build a computational graph first\n",
    "\n",
    "Characteristics:\n",
    "- operations and layers\n",
    "- Keras API integration\n",
    "- datasets and pipelines\n",
    "- optimizers\n",
    "- loss functions\n",
    "'''"
   ]
  },
  {
   "cell_type": "code",
   "execution_count": null,
   "metadata": {},
   "outputs": [],
   "source": [
    "'''\n",
    "Keras is a high-level API for deep learning, building and training neural networks\n",
    "\n",
    "5 main elements:\n",
    "1) sequential model\n",
    "2) functional model\n",
    "3) layers\n",
    "4) model compilation\n",
    "5) training and validation\n",
    "'''"
   ]
  }
 ],
 "metadata": {
  "kernelspec": {
   "display_name": "Python 3",
   "language": "python",
   "name": "python3"
  },
  "language_info": {
   "codemirror_mode": {
    "name": "ipython",
    "version": 3
   },
   "file_extension": ".py",
   "mimetype": "text/x-python",
   "name": "python",
   "nbconvert_exporter": "python",
   "pygments_lexer": "ipython3",
   "version": "3.12.5"
  }
 },
 "nbformat": 4,
 "nbformat_minor": 2
}
