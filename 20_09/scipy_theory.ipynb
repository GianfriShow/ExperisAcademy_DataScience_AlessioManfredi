{
 "cells": [
  {
   "cell_type": "code",
   "execution_count": 1,
   "metadata": {},
   "outputs": [],
   "source": [
    "import numpy as np\n",
    "from scipy import linalg"
   ]
  },
  {
   "cell_type": "code",
   "execution_count": 2,
   "metadata": {},
   "outputs": [
    {
     "name": "stdout",
     "output_type": "stream",
     "text": [
      "[0.8 1.8]\n"
     ]
    }
   ],
   "source": [
    "# Linear Algebra\n",
    "\n",
    "A = np.array([[3, 2], [1, 4]])\n",
    "b = np.array([6, 8])\n",
    "\n",
    "# solve the linear system Ax = b\n",
    "x = linalg.solve(A, b)\n",
    "print(x)"
   ]
  },
  {
   "cell_type": "code",
   "execution_count": 6,
   "metadata": {},
   "outputs": [
    {
     "name": "stdout",
     "output_type": "stream",
     "text": [
      "0.33333333333333337 3.700743415417189e-15\n"
     ]
    }
   ],
   "source": [
    "# Integration and Differential Equations\n",
    "\n",
    "from scipy import integrate\n",
    "\n",
    "# define the function to integrate\n",
    "def f(x):\n",
    "    return x**2\n",
    "\n",
    "# calculate the integral of f(x) from 0 to 1\n",
    "result, error = integrate.quad(f, 0, 1)\n",
    "print(result, error)"
   ]
  },
  {
   "cell_type": "code",
   "execution_count": 5,
   "metadata": {},
   "outputs": [
    {
     "name": "stdout",
     "output_type": "stream",
     "text": [
      "Mean: -0.015377879250642277, Standard Deviation: 1.0202405701208348\n"
     ]
    }
   ],
   "source": [
    "# Statistics\n",
    "\n",
    "from scipy import stats\n",
    "\n",
    "# generate random data from a normal distribution\n",
    "data = stats.norm.rvs(size=1000, loc=0, scale=1)\n",
    "\n",
    "# calculate mean and standard deviation\n",
    "mean, std = stats.norm.fit(data)\n",
    "print(f\"Mean: {mean}, Standard Deviation: {std}\")"
   ]
  },
  {
   "cell_type": "code",
   "execution_count": null,
   "metadata": {},
   "outputs": [],
   "source": [
    "scipy.optimize # optimization\n",
    "scipy.signal # signal processing\n",
    "scipy.fft # Fourier transforms"
   ]
  }
 ],
 "metadata": {
  "kernelspec": {
   "display_name": "Python 3",
   "language": "python",
   "name": "python3"
  },
  "language_info": {
   "codemirror_mode": {
    "name": "ipython",
    "version": 3
   },
   "file_extension": ".py",
   "mimetype": "text/x-python",
   "name": "python",
   "nbconvert_exporter": "python",
   "pygments_lexer": "ipython3",
   "version": "3.12.5"
  }
 },
 "nbformat": 4,
 "nbformat_minor": 2
}
