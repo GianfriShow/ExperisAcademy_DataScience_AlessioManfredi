{
 "cells": [
  {
   "cell_type": "code",
   "execution_count": null,
   "metadata": {},
   "outputs": [],
   "source": [
    "from sklearn.preprocessing import StandardScaler\n",
    "\n",
    "scaler = StandardScaler()\n",
    "X_scaled = scaler.fit_transform(X)  # standardize values automatically\n",
    "\n",
    "# PARAMETERS:\n",
    "# copy: (default True) --> if False, standardizes in place\n",
    "# with_mean: (default True) --> if False, it will NOT center (only rescaling)\n",
    "# with_std: (default True) --> if False, it will NOT rescale (only centering)"
   ]
  },
  {
   "cell_type": "code",
   "execution_count": null,
   "metadata": {},
   "outputs": [],
   "source": [
    "from sklearn.preprocessing import LabelEncoder\n",
    "\n",
    "label_encoder = LabelEncoder()\n",
    "y_encoded = label_encoder.fit_transform(y)  # convert categorical labels to numerical values"
   ]
  },
  {
   "cell_type": "code",
   "execution_count": null,
   "metadata": {},
   "outputs": [],
   "source": [
    "from sklearn.model_selection import train_test_split\n",
    "\n",
    "X_train, X_test, y_train, y_test = train_test_split(X, y, test_size=0.2, random_state=123)  # split dataset into train + test\n",
    "\n",
    "# PARAMETERS:\n",
    "# test_size: (default None) --> portion of the total dataset to reserve for testing, 0.25 if None by default\n",
    "# train_size: (default None) --> portion of the total dataset to reserve for training\n",
    "# random_state --> set seed for shuffling before splitting\n",
    "# shuffle: (default True) --> if False, data will not be shuffled before splitting\n",
    "# stratify --> if not None, data will be stratified accordingly"
   ]
  },
  {
   "cell_type": "code",
   "execution_count": null,
   "metadata": {},
   "outputs": [],
   "source": [
    "from sklearn.tree import DecisionTreeClassifier\n",
    "\n",
    "clf = DecisionTreeClassifier(max_depth=3, random_state=123)  # decision tree classifier model\n",
    "clf.fit(X_train, y_train)\n",
    "y_pred = clf.predict(X_test)\n",
    "\n",
    "# PARAMETERS:\n",
    "# criterion: (default 'gini') --> function determining the criterion for splitting the tree\n",
    "# splitter: (default 'best') --> strategy used to decide the split\n",
    "# max_depth --> maximum depth for the tree\n",
    "# min_samples_split --> minimum samples/points required for a split to occur"
   ]
  },
  {
   "cell_type": "code",
   "execution_count": null,
   "metadata": {},
   "outputs": [],
   "source": [
    "from sklearn.metrics import accuracy_score\n",
    "\n",
    "accuracy = accuracy_score(y_test, y_pred)  # calculate the accuracy of classification predictions\n",
    "print(f\"Accuracy: {accuracy}\")\n",
    "\n",
    "# PARAMETERS:\n",
    "# normalize: (default True) --> if False, it will return the absolute number of correct predictions rather than the relative percentage\n",
    "# sample_weight --> weight array for samples (1/N by default for equal importance)\n",
    "\n",
    "from sklearn.metrics import mean_squared_error\n",
    "\n",
    "mse = mean_squared_error(y_test, y_pred)  # calculate the Mean Squared Error of regression predictions\n",
    "print(f\"MSE: {mse}\")\n",
    "\n",
    "# PARAMETERS:\n",
    "# squared: (default True) --> if False, returns the Root Mean Squared Error instead, being equal to the square root of the MSE\n",
    "# multioutput --> describes how to aggregate multiple outputs"
   ]
  },
  {
   "cell_type": "code",
   "execution_count": null,
   "metadata": {},
   "outputs": [],
   "source": [
    "from sklearn.model_selection import cross_val_score\n",
    "\n",
    "scores = cross_val_score(model, X, y, cv=5)  # employ cross-validation\n",
    "print(f\"Scores: {scores}\")\n",
    "\n",
    "# PARAMETERS:\n",
    "# estimator --> model to utilize\n",
    "# X --> input data\n",
    "# y --> target labels\n",
    "# cv --> number of folds for the cross-validation\n",
    "# scoring --> score calculation strategy"
   ]
  }
 ],
 "metadata": {
  "language_info": {
   "name": "python"
  }
 },
 "nbformat": 4,
 "nbformat_minor": 2
}
