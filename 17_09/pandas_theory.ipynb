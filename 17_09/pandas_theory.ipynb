{
 "cells": [
  {
   "cell_type": "code",
   "execution_count": 36,
   "metadata": {},
   "outputs": [],
   "source": [
    "import pandas as pd\n",
    "import numpy as np"
   ]
  },
  {
   "cell_type": "code",
   "execution_count": 37,
   "metadata": {},
   "outputs": [
    {
     "name": "stdout",
     "output_type": "stream",
     "text": [
      "    Name   Age    City\n",
      "0  Alice  25.0    Rome\n",
      "1    Bob  30.0   Milan\n",
      "2  Carla  22.0  Naples\n",
      "3    Bob  30.0   Milan\n",
      "4  Carla   NaN  Naples\n",
      "5  Alice  25.0    Rome\n",
      "6   None  29.0    Rome\n"
     ]
    }
   ],
   "source": [
    "dictionary = data = {\n",
    "    'Name': ['Alice', 'Bob', 'Carla', 'Bob', 'Carla', 'Alice', None],\n",
    "    'Age': [25, 30, 22, 30, np.nan, 25, 29],\n",
    "    'City': ['Rome', 'Milan', 'Naples', 'Milan', 'Naples', 'Rome', 'Rome']\n",
    "}\n",
    "\n",
    "df = pd.DataFrame(dictionary)\n",
    "\n",
    "print(df)"
   ]
  },
  {
   "cell_type": "code",
   "execution_count": 38,
   "metadata": {},
   "outputs": [
    {
     "name": "stdout",
     "output_type": "stream",
     "text": [
      "    Name   Age    City\n",
      "0  Alice  25.0    Rome\n",
      "1    Bob  30.0   Milan\n",
      "2  Carla  22.0  Naples\n",
      "3    Bob  30.0   Milan\n",
      "4  Carla   NaN  Naples\n",
      "5  Alice  25.0    Rome\n",
      "6   None  29.0    Rome\n"
     ]
    }
   ],
   "source": [
    "df.drop_duplicates()  # removes duplicate rows (none in this example)\n",
    "print(df)"
   ]
  },
  {
   "cell_type": "code",
   "execution_count": 39,
   "metadata": {},
   "outputs": [
    {
     "name": "stdout",
     "output_type": "stream",
     "text": [
      "    Name   Age    City\n",
      "0  Alice  25.0    Rome\n",
      "1    Bob  30.0   Milan\n",
      "2  Carla  22.0  Naples\n",
      "3    Bob  30.0   Milan\n",
      "5  Alice  25.0    Rome\n"
     ]
    }
   ],
   "source": [
    "df_cleaned = df.dropna()  # removes rows with at least one missing value (NaN or None)\n",
    "print(df_cleaned)"
   ]
  },
  {
   "cell_type": "code",
   "execution_count": 40,
   "metadata": {},
   "outputs": [
    {
     "name": "stdout",
     "output_type": "stream",
     "text": [
      "    Name        Age    City\n",
      "0  Alice  25.000000    Rome\n",
      "1    Bob  30.000000   Milan\n",
      "2  Carla  22.000000  Naples\n",
      "3    Bob  30.000000   Milan\n",
      "4  Carla  26.833333  Naples\n",
      "5  Alice  25.000000    Rome\n",
      "6   None  29.000000    Rome\n"
     ]
    },
    {
     "name": "stderr",
     "output_type": "stream",
     "text": [
      "C:\\Users\\Alessio\\AppData\\Local\\Temp\\ipykernel_5972\\2230196754.py:1: FutureWarning: A value is trying to be set on a copy of a DataFrame or Series through chained assignment using an inplace method.\n",
      "The behavior will change in pandas 3.0. This inplace method will never work because the intermediate object on which we are setting values always behaves as a copy.\n",
      "\n",
      "For example, when doing 'df[col].method(value, inplace=True)', try using 'df.method({col: value}, inplace=True)' or df[col] = df[col].method(value) instead, to perform the operation inplace on the original object.\n",
      "\n",
      "\n",
      "  df['Age'].fillna(df['Age'].mean(), inplace=True)  # replaces NA values (not available) with another, inplace=True substitutes the original dataframe\n"
     ]
    }
   ],
   "source": [
    "df['Age'].fillna(df['Age'].mean(), inplace=True)  # replaces NA values (not available) with another, inplace=True substitutes the original dataframe\n",
    "print(df)"
   ]
  },
  {
   "cell_type": "code",
   "execution_count": 41,
   "metadata": {},
   "outputs": [],
   "source": [
    "data = {\n",
    "    'date': ['2021-01-01', '2021-01-01', '2021-01-01', '2021-01-02', '2021-01-02'],\n",
    "    'city': ['Rome', 'Milan', 'Naples', 'Rome', 'Milan'],\n",
    "    'product': ['mouse', 'keyboard', 'mouse', 'keyboard', 'mouse'],\n",
    "    'sales': [100, 200, 150, 300, 250]\n",
    "}\n",
    "df = pd.DataFrame(data)"
   ]
  },
  {
   "cell_type": "code",
   "execution_count": 42,
   "metadata": {},
   "outputs": [],
   "source": [
    "pivot_df = df.pivot_table(values='sales',index='product',columns='city',aggfunc='mean')"
   ]
  },
  {
   "cell_type": "code",
   "execution_count": 43,
   "metadata": {},
   "outputs": [
    {
     "name": "stdout",
     "output_type": "stream",
     "text": [
      "         date    city   product  sales\n",
      "0  2021-01-01    Rome     mouse    100\n",
      "1  2021-01-01   Milan  keyboard    200\n",
      "2  2021-01-01  Naples     mouse    150\n",
      "3  2021-01-02    Rome  keyboard    300\n",
      "4  2021-01-02   Milan     mouse    250 \n",
      "\n",
      "city      Milan  Naples   Rome\n",
      "product                       \n",
      "keyboard  200.0     NaN  300.0\n",
      "mouse     250.0   150.0  100.0\n"
     ]
    }
   ],
   "source": [
    "print(df,'\\n')\n",
    "print(pivot_df)"
   ]
  },
  {
   "cell_type": "code",
   "execution_count": 44,
   "metadata": {},
   "outputs": [],
   "source": [
    "grouped_df = df.groupby('product').sum()"
   ]
  },
  {
   "cell_type": "code",
   "execution_count": 45,
   "metadata": {},
   "outputs": [
    {
     "name": "stdout",
     "output_type": "stream",
     "text": [
      "                                    date             city  sales\n",
      "product                                                         \n",
      "keyboard            2021-01-012021-01-02        MilanRome    500\n",
      "mouse     2021-01-012021-01-012021-01-02  RomeNaplesMilan    500\n"
     ]
    }
   ],
   "source": [
    "print(grouped_df)"
   ]
  }
 ],
 "metadata": {
  "kernelspec": {
   "display_name": "Python 3",
   "language": "python",
   "name": "python3"
  },
  "language_info": {
   "codemirror_mode": {
    "name": "ipython",
    "version": 3
   },
   "file_extension": ".py",
   "mimetype": "text/x-python",
   "name": "python",
   "nbconvert_exporter": "python",
   "pygments_lexer": "ipython3",
   "version": "3.12.5"
  }
 },
 "nbformat": 4,
 "nbformat_minor": 2
}
