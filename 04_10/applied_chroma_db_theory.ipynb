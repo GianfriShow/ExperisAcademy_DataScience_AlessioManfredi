{
 "cells": [
  {
   "cell_type": "code",
   "execution_count": 29,
   "metadata": {},
   "outputs": [],
   "source": [
    "import chromadb\n",
    "from chromadb.config import Settings\n",
    "\n",
    "import numpy as np"
   ]
  },
  {
   "cell_type": "code",
   "execution_count": 15,
   "metadata": {},
   "outputs": [],
   "source": [
    "# Initialize the ChromaDB client with default settings\n",
    "\n",
    "chroma_client = chromadb.Client(Settings())"
   ]
  },
  {
   "cell_type": "code",
   "execution_count": 16,
   "metadata": {},
   "outputs": [],
   "source": [
    "# Create a new collection\n",
    "\n",
    "collection = chroma_client.create_collection(name=\"my_documents\")"
   ]
  },
  {
   "cell_type": "code",
   "execution_count": 17,
   "metadata": {},
   "outputs": [],
   "source": [
    "# Add documents to the collection\n",
    "\n",
    "collection.add(\n",
    "    documents=[\n",
    "        \"This is the first document.\",\n",
    "        \"Here is the second document.\",\n",
    "        \"The third document is right here.\"\n",
    "    ],\n",
    "    metadatas=[\n",
    "        {\"category\": \"text\"},\n",
    "        {\"category\": \"text\"},\n",
    "        {\"category\": \"text\"}\n",
    "    ],\n",
    "    ids=[\"doc1\", \"doc2\", \"doc3\"]\n",
    ")"
   ]
  },
  {
   "cell_type": "code",
   "execution_count": 28,
   "metadata": {},
   "outputs": [
    {
     "name": "stdout",
     "output_type": "stream",
     "text": [
      "{'ids': [['doc2', 'doc1', 'doc3']], 'distances': [[0.5167185068130493, 0.6896637082099915, 0.7063825726509094]], 'metadatas': [[{'category': 'text'}, {'category': 'text'}, {'category': 'text'}]], 'embeddings': None, 'documents': [['Here is the second document.', 'This is the first document.', 'The third document is right here.']], 'uris': None, 'data': None, 'included': ['metadatas', 'documents', 'distances']}\n"
     ]
    }
   ],
   "source": [
    "# Run a query to search for similar documents\n",
    "\n",
    "results = collection.query(\n",
    "    query_texts=[\"second document\"],\n",
    "    n_results=3\n",
    ")\n",
    "\n",
    "print(results)"
   ]
  },
  {
   "cell_type": "code",
   "execution_count": 30,
   "metadata": {},
   "outputs": [
    {
     "name": "stdout",
     "output_type": "stream",
     "text": [
      "Results of the unfiltered query:\n",
      "{'ids': [['img2', 'img1']], 'distances': [[20.872116088867188, 23.36772918701172]], 'metadatas': [[{'category': 'city', 'name': 'image2.jpg'}, {'category': 'nature', 'name': 'image1.jpg'}]], 'embeddings': None, 'documents': [[None, None]], 'uris': None, 'data': None, 'included': ['metadatas', 'documents', 'distances']}\n",
      "\n",
      "Results of the query with a filter on 'nature' category:\n",
      "{'ids': [['img1', 'img3']], 'distances': [[23.36772918701172, 23.89348793029785]], 'metadatas': [[{'category': 'nature', 'name': 'image1.jpg'}, {'category': 'nature', 'name': 'image3.jpg'}]], 'embeddings': None, 'documents': [[None, None]], 'uris': None, 'data': None, 'included': ['metadatas', 'documents', 'distances']}\n"
     ]
    }
   ],
   "source": [
    "# Initialize client\n",
    "chroma_client = chromadb.Client(Settings())\n",
    "\n",
    "# Create a new collection \"images_embeddings\"\n",
    "collection = chroma_client.create_collection(name=\"images_embeddings\")\n",
    "\n",
    "# Suppose we have some embeddings of images\n",
    "embeddings = [\n",
    "    np.random.rand(128),  # image 1 embedding\n",
    "    np.random.rand(128),  # image 2 embedding\n",
    "    np.random.rand(128)   # image 3 embedding\n",
    "]\n",
    "\n",
    "# Convert embeddings to lists for compatibility with ChromaDB\n",
    "embeddings = [embedding.tolist() for embedding in embeddings]\n",
    "\n",
    "# Add the embeddings to the collection\n",
    "collection.add(\n",
    "    embeddings=embeddings,\n",
    "    metadatas=[\n",
    "        {\"name\": \"image1.jpg\", \"category\": \"nature\"},\n",
    "        {\"name\": \"image2.jpg\", \"category\": \"city\"},\n",
    "        {\"name\": \"image3.jpg\", \"category\": \"nature\"}\n",
    "    ],\n",
    "    ids=[\"img1\", \"img2\", \"img3\"]\n",
    ")\n",
    "\n",
    "# Generate a query embedding (same format/dimensions as the space we'll explore for similarities)\n",
    "query_embedding = np.random.rand(128).tolist()\n",
    "\n",
    "# Run the similarity search\n",
    "results = collection.query(\n",
    "    query_embeddings=[query_embedding],\n",
    "    n_results=2\n",
    ")\n",
    "\n",
    "print(\"Results of the unfiltered query:\")\n",
    "print(results)\n",
    "\n",
    "# Now try filtering the metadata before the query\n",
    "filtered_results = collection.query(\n",
    "    query_embeddings=[query_embedding],\n",
    "    n_results=2,\n",
    "    where={\"category\": \"nature\"}\n",
    ")\n",
    "\n",
    "print(\"\\nResults of the query with a filter on 'nature' category:\")\n",
    "print(filtered_results)\n",
    "\n",
    "# Update 'img1' metadata\n",
    "collection.update(\n",
    "    ids=[\"img1\"],\n",
    "    metadatas=[{\"name\": \"image1_modified.jpg\", \"category\": \"landscape\"}]\n",
    ")\n",
    "\n",
    "# Remove 'img2' from the collection\n",
    "collection.delete(\n",
    "    ids=[\"img2\"]\n",
    ")"
   ]
  }
 ],
 "metadata": {
  "kernelspec": {
   "display_name": "Python 3",
   "language": "python",
   "name": "python3"
  },
  "language_info": {
   "codemirror_mode": {
    "name": "ipython",
    "version": 3
   },
   "file_extension": ".py",
   "mimetype": "text/x-python",
   "name": "python",
   "nbconvert_exporter": "python",
   "pygments_lexer": "ipython3",
   "version": "3.12.6"
  }
 },
 "nbformat": 4,
 "nbformat_minor": 2
}
