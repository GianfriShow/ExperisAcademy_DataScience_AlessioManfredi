{
 "cells": [
  {
   "cell_type": "code",
   "execution_count": 9,
   "metadata": {},
   "outputs": [],
   "source": [
    "import chromadb\n",
    "from chromadb.config import Settings"
   ]
  },
  {
   "cell_type": "code",
   "execution_count": 15,
   "metadata": {},
   "outputs": [],
   "source": [
    "# Initialize the ChromaDB client with default settings\n",
    "\n",
    "chroma_client = chromadb.Client(Settings())"
   ]
  },
  {
   "cell_type": "code",
   "execution_count": 16,
   "metadata": {},
   "outputs": [],
   "source": [
    "# Create a new collection\n",
    "\n",
    "collection = chroma_client.create_collection(name=\"my_documents\")"
   ]
  },
  {
   "cell_type": "code",
   "execution_count": 17,
   "metadata": {},
   "outputs": [],
   "source": [
    "# Add documents to the collection\n",
    "\n",
    "collection.add(\n",
    "    documents=[\n",
    "        \"This is the first document.\",\n",
    "        \"Here is the second document.\",\n",
    "        \"The third document is right here.\"\n",
    "    ],\n",
    "    metadatas=[\n",
    "        {\"category\": \"text\"},\n",
    "        {\"category\": \"text\"},\n",
    "        {\"category\": \"text\"}\n",
    "    ],\n",
    "    ids=[\"doc1\", \"doc2\", \"doc3\"]\n",
    ")"
   ]
  },
  {
   "cell_type": "code",
   "execution_count": 28,
   "metadata": {},
   "outputs": [
    {
     "name": "stdout",
     "output_type": "stream",
     "text": [
      "{'ids': [['doc2', 'doc1', 'doc3']], 'distances': [[0.5167185068130493, 0.6896637082099915, 0.7063825726509094]], 'metadatas': [[{'category': 'text'}, {'category': 'text'}, {'category': 'text'}]], 'embeddings': None, 'documents': [['Here is the second document.', 'This is the first document.', 'The third document is right here.']], 'uris': None, 'data': None, 'included': ['metadatas', 'documents', 'distances']}\n"
     ]
    }
   ],
   "source": [
    "# Run a query to search for similar documents\n",
    "\n",
    "results = collection.query(\n",
    "    query_texts=[\"second document\"],\n",
    "    n_results=3\n",
    ")\n",
    "\n",
    "print(results)"
   ]
  },
  {
   "cell_type": "code",
   "execution_count": null,
   "metadata": {},
   "outputs": [],
   "source": []
  },
  {
   "cell_type": "code",
   "execution_count": null,
   "metadata": {},
   "outputs": [],
   "source": []
  },
  {
   "cell_type": "code",
   "execution_count": null,
   "metadata": {},
   "outputs": [],
   "source": []
  }
 ],
 "metadata": {
  "kernelspec": {
   "display_name": "Python 3",
   "language": "python",
   "name": "python3"
  },
  "language_info": {
   "codemirror_mode": {
    "name": "ipython",
    "version": 3
   },
   "file_extension": ".py",
   "mimetype": "text/x-python",
   "name": "python",
   "nbconvert_exporter": "python",
   "pygments_lexer": "ipython3",
   "version": "3.12.6"
  }
 },
 "nbformat": 4,
 "nbformat_minor": 2
}
