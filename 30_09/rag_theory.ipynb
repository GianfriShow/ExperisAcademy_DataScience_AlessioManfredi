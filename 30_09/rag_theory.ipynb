{
 "cells": [
  {
   "cell_type": "code",
   "execution_count": null,
   "metadata": {},
   "outputs": [],
   "source": [
    "import os\n",
    "os.environ['OPENAI_API_KEY'] = 'MY_API_KEY'"
   ]
  },
  {
   "cell_type": "code",
   "execution_count": 2,
   "metadata": {},
   "outputs": [],
   "source": [
    "from langchain.embeddings import OpenAIEmbeddings\n",
    "from langchain.vectorstores import FAISS\n",
    "from langchain.text_splitter import CharacterTextSplitter\n",
    "from langchain.llms import OpenAI\n",
    "from langchain.chains import RetrievalQA"
   ]
  },
  {
   "cell_type": "code",
   "execution_count": 3,
   "metadata": {},
   "outputs": [],
   "source": [
    "document = \"\"\"\n",
    "Python is a high-level, interpreted, and\n",
    "object-oriented programming language.\n",
    "Machine learning is a sub-field of artificial intelligence involving\n",
    "the creation of systems that learn autonomously.\n",
    "Neural networks are computational models based on the structure\n",
    "of the human brain.\n",
    "Deep learning is a sub-class of machine learning that\n",
    "utilizes deep neural networks.\n",
    "Natural language is complex and requires advanced techniques\n",
    "to elaborate.\n",
    "\"\"\""
   ]
  },
  {
   "cell_type": "code",
   "execution_count": 4,
   "metadata": {},
   "outputs": [],
   "source": [
    "text_splitter = CharacterTextSplitter(chunk_size=200, chunk_overlap=0)  # split text into smaller chunks\n",
    "texts = text_splitter.split_text(document)"
   ]
  },
  {
   "cell_type": "code",
   "execution_count": 5,
   "metadata": {},
   "outputs": [
    {
     "data": {
      "text/plain": [
       "[\"Python è un linguaggio di programmazione ad alto livello, interpretato e\\norientato agli oggetti.\\nLa machine learning è un campo dell'intelligenza artificiale che si occupa\\ndella creazione di sistemi che apprendono automaticamente.\\nLe reti neurali sono modelli computazionali ispirati alla struttura del\\ncervello umano.\\nL'apprendimento profondo è una sottoclasse della machine learning che\\nutilizza reti neurali profonde.\\nIl linguaggio naturale è complesso e richiede tecniche avanzate per la sua\\nelaborazione.\"]"
      ]
     },
     "execution_count": 5,
     "metadata": {},
     "output_type": "execute_result"
    }
   ],
   "source": [
    "texts"
   ]
  },
  {
   "cell_type": "code",
   "execution_count": null,
   "metadata": {},
   "outputs": [],
   "source": [
    "embeddings = OpenAIEmbeddings()  # encoder\n",
    "vectorstore = FAISS.from_texts(texts, embeddings)  # create vector database from text and embeddings"
   ]
  },
  {
   "cell_type": "code",
   "execution_count": null,
   "metadata": {},
   "outputs": [],
   "source": [
    "llm = OpenAI(temperature=0)  # load the llm from OpenAI, with arbitrary temperature --> temperature is proportional to variance of answers"
   ]
  },
  {
   "cell_type": "code",
   "execution_count": null,
   "metadata": {},
   "outputs": [],
   "source": [
    "qa = RetrievalQA.from_chain_type(llm=llm, chain_type=\"stuff\", retriever=vectorstore.as_retriever())  # retrieval chain"
   ]
  },
  {
   "cell_type": "code",
   "execution_count": null,
   "metadata": {},
   "outputs": [],
   "source": [
    "query = \"What's deep learning?\"\n",
    "answer = qa.run(query)\n",
    "print(\"Question:\", query)\n",
    "print(\"Answer:\", answer)"
   ]
  }
 ],
 "metadata": {
  "kernelspec": {
   "display_name": "Python 3",
   "language": "python",
   "name": "python3"
  },
  "language_info": {
   "codemirror_mode": {
    "name": "ipython",
    "version": 3
   },
   "file_extension": ".py",
   "mimetype": "text/x-python",
   "name": "python",
   "nbconvert_exporter": "python",
   "pygments_lexer": "ipython3",
   "version": "3.12.6"
  }
 },
 "nbformat": 4,
 "nbformat_minor": 2
}
