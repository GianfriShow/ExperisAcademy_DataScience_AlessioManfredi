{
 "cells": [
  {
   "cell_type": "code",
   "execution_count": null,
   "metadata": {},
   "outputs": [],
   "source": [
    "from sklearn.model_selection import GridSearchCV\n",
    "\n",
    "param_grid = {'max_depth': [3, 5, 7], 'criterion': ['gini', 'entropy']}\n",
    "grid_search = GridSearchCV(DecisionTreeClassifier(), param_grid, cv=5)  # exhaustive grid search\n",
    "grid_search.fit(X_train, y_train)\n",
    "print(f\"Best parameters found: {grid_search.best_params_}\")\n",
    "\n",
    "# PARAMETERS:\n",
    "# estimator --> model to optimize\n",
    "# param_grid --> dictionary with parameters and values to test\n",
    "# cv --> number of folds for cross-validation\n",
    "# scoring --> strategy for evaluating the model\n",
    "# n_jobs --> number of parallel processes to run"
   ]
  },
  {
   "cell_type": "code",
   "execution_count": null,
   "metadata": {},
   "outputs": [],
   "source": [
    "from sklearn.pipeline import Pipeline\n",
    "from sklearn.preprocessing import StandardScaler\n",
    "from sklearn.svm import SVC\n",
    "\n",
    "pipeline = Pipeline([('scaler', StandardScaler()), ('svc', SVC(kernel='rbf', C=1))])  # sequentially run some processes\n",
    "\n",
    "param_grid = {'svc__C': [0.1, 1, 10], 'svc__kernel': ['linear', 'rbf']}  # use the name of the process followed by '__' and the parameter name\n",
    "\n",
    "pipeline.fit(X_train, y_train)\n",
    "y_pred = pipeline.predict(X_test)\n",
    "\n",
    "# PARAMETERS:\n",
    "# list of tuples: (process_name, transformation_or_estimator)\n",
    "# each name must be unique and without a final underscore"
   ]
  },
  {
   "cell_type": "code",
   "execution_count": null,
   "metadata": {},
   "outputs": [],
   "source": [
    "make_classification()\n",
    "\n",
    "# PARAMETERS:\n",
    "# n_samples --> total number of samples\n",
    "# n_features --> total number of features\n",
    "# n_informative --> number of informative features\n",
    "# random_state --> seed"
   ]
  },
  {
   "cell_type": "code",
   "execution_count": null,
   "metadata": {},
   "outputs": [],
   "source": [
    "SVC()  # Support Vector Classification\n",
    "\n",
    "# PARAMETERS:\n",
    "# C --> regularization parameter\n",
    "# kernel --> kernel type ('linear', 'poly', 'rbf', 'sigmoid')\n",
    "# gamma --> kernel coefficient"
   ]
  },
  {
   "cell_type": "code",
   "execution_count": null,
   "metadata": {},
   "outputs": [],
   "source": []
  },
  {
   "cell_type": "code",
   "execution_count": null,
   "metadata": {},
   "outputs": [],
   "source": []
  },
  {
   "cell_type": "code",
   "execution_count": null,
   "metadata": {},
   "outputs": [],
   "source": []
  }
 ],
 "metadata": {
  "language_info": {
   "name": "python"
  }
 },
 "nbformat": 4,
 "nbformat_minor": 2
}
